{
 "cells": [
  {
   "cell_type": "markdown",
   "metadata": {},
   "source": [
    "# Extracting Vectors from a CharCNN Model"
   ]
  },
  {
   "cell_type": "markdown",
   "metadata": {},
   "source": [
    "### Reading in the Data\n",
    "\n",
    "Data taken from the public Kaggle dataset *\"Trip Advisor Hotel Reviews\"* found [here](https://www.kaggle.com/datasets/andrewmvd/trip-advisor-hotel-reviews)"
   ]
  },
  {
   "cell_type": "code",
   "execution_count": 1,
   "metadata": {},
   "outputs": [],
   "source": [
    "# import necessary libraries and modules\n",
    "\n",
    "import pandas as pd\n",
    "from utils.preprocessing_utils import make_tokenizer, text_to_input_vectors\n",
    "from utils.model_utils import make_model\n",
    "from utils.vespa_utils import data_to_vespa_format\n",
    "from tensorflow.keras.models import load_model\n",
    "from tensorflow.keras import backend as K"
   ]
  },
  {
   "cell_type": "code",
   "execution_count": 2,
   "metadata": {},
   "outputs": [
    {
     "data": {
      "text/html": [
       "<div>\n",
       "<style scoped>\n",
       "    .dataframe tbody tr th:only-of-type {\n",
       "        vertical-align: middle;\n",
       "    }\n",
       "\n",
       "    .dataframe tbody tr th {\n",
       "        vertical-align: top;\n",
       "    }\n",
       "\n",
       "    .dataframe thead th {\n",
       "        text-align: right;\n",
       "    }\n",
       "</style>\n",
       "<table border=\"1\" class=\"dataframe\">\n",
       "  <thead>\n",
       "    <tr style=\"text-align: right;\">\n",
       "      <th></th>\n",
       "      <th>text</th>\n",
       "      <th>label</th>\n",
       "    </tr>\n",
       "  </thead>\n",
       "  <tbody>\n",
       "    <tr>\n",
       "      <th>0</th>\n",
       "      <td>nice hotel expensive parking got good deal sta...</td>\n",
       "      <td>4</td>\n",
       "    </tr>\n",
       "    <tr>\n",
       "      <th>1</th>\n",
       "      <td>ok nothing special charge diamond member hilto...</td>\n",
       "      <td>2</td>\n",
       "    </tr>\n",
       "    <tr>\n",
       "      <th>2</th>\n",
       "      <td>nice rooms not 4* experience hotel monaco seat...</td>\n",
       "      <td>3</td>\n",
       "    </tr>\n",
       "    <tr>\n",
       "      <th>3</th>\n",
       "      <td>unique, great stay, wonderful time hotel monac...</td>\n",
       "      <td>5</td>\n",
       "    </tr>\n",
       "    <tr>\n",
       "      <th>4</th>\n",
       "      <td>great stay great stay, went seahawk game aweso...</td>\n",
       "      <td>5</td>\n",
       "    </tr>\n",
       "  </tbody>\n",
       "</table>\n",
       "</div>"
      ],
      "text/plain": [
       "                                                text  label\n",
       "0  nice hotel expensive parking got good deal sta...      4\n",
       "1  ok nothing special charge diamond member hilto...      2\n",
       "2  nice rooms not 4* experience hotel monaco seat...      3\n",
       "3  unique, great stay, wonderful time hotel monac...      5\n",
       "4  great stay great stay, went seahawk game aweso...      5"
      ]
     },
     "execution_count": 2,
     "metadata": {},
     "output_type": "execute_result"
    }
   ],
   "source": [
    "# read in kaggle hotel review dataset and rename columns\n",
    "df = pd.read_csv(\"./data/tripadvisor_hotel_reviews.csv\")\n",
    "df.columns = ['text', 'label']\n",
    "df.head()"
   ]
  },
  {
   "cell_type": "code",
   "execution_count": 3,
   "metadata": {},
   "outputs": [
    {
     "data": {
      "text/html": [
       "<div>\n",
       "<style scoped>\n",
       "    .dataframe tbody tr th:only-of-type {\n",
       "        vertical-align: middle;\n",
       "    }\n",
       "\n",
       "    .dataframe tbody tr th {\n",
       "        vertical-align: top;\n",
       "    }\n",
       "\n",
       "    .dataframe thead th {\n",
       "        text-align: right;\n",
       "    }\n",
       "</style>\n",
       "<table border=\"1\" class=\"dataframe\">\n",
       "  <thead>\n",
       "    <tr style=\"text-align: right;\">\n",
       "      <th></th>\n",
       "      <th>text</th>\n",
       "      <th>label</th>\n",
       "      <th>rating_1</th>\n",
       "      <th>rating_2</th>\n",
       "      <th>rating_3</th>\n",
       "      <th>rating_4</th>\n",
       "      <th>rating_5</th>\n",
       "    </tr>\n",
       "  </thead>\n",
       "  <tbody>\n",
       "    <tr>\n",
       "      <th>0</th>\n",
       "      <td>nice hotel expensive parking got good deal sta...</td>\n",
       "      <td>4</td>\n",
       "      <td>0</td>\n",
       "      <td>0</td>\n",
       "      <td>0</td>\n",
       "      <td>1</td>\n",
       "      <td>0</td>\n",
       "    </tr>\n",
       "    <tr>\n",
       "      <th>1</th>\n",
       "      <td>ok nothing special charge diamond member hilto...</td>\n",
       "      <td>2</td>\n",
       "      <td>0</td>\n",
       "      <td>1</td>\n",
       "      <td>0</td>\n",
       "      <td>0</td>\n",
       "      <td>0</td>\n",
       "    </tr>\n",
       "    <tr>\n",
       "      <th>2</th>\n",
       "      <td>nice rooms not 4* experience hotel monaco seat...</td>\n",
       "      <td>3</td>\n",
       "      <td>0</td>\n",
       "      <td>0</td>\n",
       "      <td>1</td>\n",
       "      <td>0</td>\n",
       "      <td>0</td>\n",
       "    </tr>\n",
       "    <tr>\n",
       "      <th>3</th>\n",
       "      <td>unique, great stay, wonderful time hotel monac...</td>\n",
       "      <td>5</td>\n",
       "      <td>0</td>\n",
       "      <td>0</td>\n",
       "      <td>0</td>\n",
       "      <td>0</td>\n",
       "      <td>1</td>\n",
       "    </tr>\n",
       "    <tr>\n",
       "      <th>4</th>\n",
       "      <td>great stay great stay, went seahawk game aweso...</td>\n",
       "      <td>5</td>\n",
       "      <td>0</td>\n",
       "      <td>0</td>\n",
       "      <td>0</td>\n",
       "      <td>0</td>\n",
       "      <td>1</td>\n",
       "    </tr>\n",
       "  </tbody>\n",
       "</table>\n",
       "</div>"
      ],
      "text/plain": [
       "                                                text  label  rating_1  \\\n",
       "0  nice hotel expensive parking got good deal sta...      4         0   \n",
       "1  ok nothing special charge diamond member hilto...      2         0   \n",
       "2  nice rooms not 4* experience hotel monaco seat...      3         0   \n",
       "3  unique, great stay, wonderful time hotel monac...      5         0   \n",
       "4  great stay great stay, went seahawk game aweso...      5         0   \n",
       "\n",
       "   rating_2  rating_3  rating_4  rating_5  \n",
       "0         0         0         1         0  \n",
       "1         1         0         0         0  \n",
       "2         0         1         0         0  \n",
       "3         0         0         0         1  \n",
       "4         0         0         0         1  "
      ]
     },
     "execution_count": 3,
     "metadata": {},
     "output_type": "execute_result"
    }
   ],
   "source": [
    "# One hot encode the label column (rating of either 1-5)\n",
    "# This is necessary for training the CharCNN model to interpret 5 different classes\n",
    "df = pd.concat([df, pd.get_dummies(df['label'], prefix='rating')], axis=1)\n",
    "df.head()"
   ]
  },
  {
   "cell_type": "markdown",
   "metadata": {},
   "source": [
    "### Preprocessing the Data\n",
    "\n",
    "In this step, hotel review text is converted into character arrays to be fed to our CharCNN model. Process taken from [this Medium article](https://towardsdatascience.com/how-to-preprocess-character-level-text-with-keras-349065121089) by Xu Liang"
   ]
  },
  {
   "cell_type": "code",
   "execution_count": 4,
   "metadata": {},
   "outputs": [
    {
     "name": "stdout",
     "output_type": "stream",
     "text": [
      "Before preprocessing:\n",
      "\n",
      " nice hotel expensive parking got good deal stay hotel anniversary, arrived late evening took advice previous reviews did valet parking, check quick easy, little disappointed non-existent view room room clean nice size, bed comfortable woke stiff neck high pillows, not soundproof like heard music room night morning loud bangs doors opening closing hear people talking hallway, maybe just noisy neighbors, aveda bath products nice, did not goldfish stay nice touch taken advantage staying longer, location great walking distance shopping, overall nice experience having pay 40 parking night,  \n",
      "\n",
      "\n",
      "After preprocessing:\n",
      "\n",
      " [21 19  9  3 18 15 15 13 14  9  7  8 20 13 15 18 14  9 14  7 12 15 21  4\n",
      "  2  1 14  7 19  4 15 15 18 19 15 16  5 14  9 14  7  3 12 15 19  9 14  7\n",
      "  8  5  1 18 16  5 15 16 12  5 20  1 12 11  9 14  7  8  1 12 12 23  1 25\n",
      " 38 13  1 25  2  5 10 21 19 20 14 15  9 19 25 14  5  9  7  8  2 15 18 19\n",
      " 38  1 22  5  4  1  2  1 20  8 16 18 15  4 21  3 20 19 14  9  3  5 38  4\n",
      "  9  4 14 15 20  7 15 12  4  6  9 19  8 19 20  1 25 14  9  3  5 20 15 21\n",
      "  3  8 20  1 11  5 14  1  4 22  1 14 20  1  7  5 19 20  1 25  9 14  7 12\n",
      " 15 14  7  5 18 38 12 15  3  1 20  9 15 14  7 18  5  1 20 23  1 12 11  9\n",
      " 14  7  4  9 19 20  1 14  3  5 19  8 15 16 16  9 14  7 38 15 22  5 18  1\n",
      " 12 12 14  9  3  5  5 24 16  5 18  9  5 14  3  5  8  1 22  9 14  7 16  1\n",
      " 25 31 27 16  1 18 11  9 14  7 14  9  7  8 20 38]\n"
     ]
    }
   ],
   "source": [
    "# Preprocess the text data to be fed into the CharCNN\n",
    "# A Tokenizer is turning each text string into an array of characters of size 256\n",
    "# Each integer represents a letter (a = 1, b = 2, etc...)\n",
    "# If text is shorter than 256 chars, pad 0's to the end, otherwise truncate to 256\n",
    "tk = make_tokenizer()\n",
    "inputs = text_to_input_vectors(df, tk, 256, 'text')\n",
    "\n",
    "print(\"Before preprocessing:\\n\\n\", df.iloc[0]['text'])\n",
    "print(\"\\n\")\n",
    "print(\"After preprocessing:\\n\\n\", inputs[0])"
   ]
  },
  {
   "cell_type": "markdown",
   "metadata": {},
   "source": [
    "### Training the Model\n",
    "\n",
    "In this step, we finally train our CharCNN model. Implementation process taken from [this Medium article](https://towardsdatascience.com/character-level-cnn-with-keras-50391c3adf33) by Xu Liang"
   ]
  },
  {
   "cell_type": "code",
   "execution_count": 5,
   "metadata": {},
   "outputs": [],
   "source": [
    "# Split half of data into training, half into testing set\n",
    "# This CharCNN is only for demonstration purposes, so we'll use a trivial\n",
    "# method for splitting the two sets by taking every other record in the data\n",
    "train_data = inputs[::2]\n",
    "test_data = inputs[1::2]\n",
    "\n",
    "classes = [f\"rating_{i}\" for i in range(1,6)]\n",
    "\n",
    "train_classes = df[classes].values[::2]\n",
    "test_classes = df[classes].values[1::2]"
   ]
  },
  {
   "cell_type": "code",
   "execution_count": 6,
   "metadata": {},
   "outputs": [
    {
     "name": "stdout",
     "output_type": "stream",
     "text": [
      "Model: \"model\"\n",
      "_________________________________________________________________\n",
      "Layer (type)                 Output Shape              Param #   \n",
      "=================================================================\n",
      "input (InputLayer)           [(None, 256)]             0         \n",
      "_________________________________________________________________\n",
      "embedding (Embedding)        (None, 256, 69)           4830      \n",
      "_________________________________________________________________\n",
      "conv1d (Conv1D)              (None, 250, 256)          123904    \n",
      "_________________________________________________________________\n",
      "activation (Activation)      (None, 250, 256)          0         \n",
      "_________________________________________________________________\n",
      "max_pooling1d (MaxPooling1D) (None, 83, 256)           0         \n",
      "_________________________________________________________________\n",
      "conv1d_1 (Conv1D)            (None, 77, 256)           459008    \n",
      "_________________________________________________________________\n",
      "activation_1 (Activation)    (None, 77, 256)           0         \n",
      "_________________________________________________________________\n",
      "max_pooling1d_1 (MaxPooling1 (None, 25, 256)           0         \n",
      "_________________________________________________________________\n",
      "conv1d_2 (Conv1D)            (None, 23, 256)           196864    \n",
      "_________________________________________________________________\n",
      "activation_2 (Activation)    (None, 23, 256)           0         \n",
      "_________________________________________________________________\n",
      "conv1d_3 (Conv1D)            (None, 21, 256)           196864    \n",
      "_________________________________________________________________\n",
      "activation_3 (Activation)    (None, 21, 256)           0         \n",
      "_________________________________________________________________\n",
      "conv1d_4 (Conv1D)            (None, 19, 256)           196864    \n",
      "_________________________________________________________________\n",
      "activation_4 (Activation)    (None, 19, 256)           0         \n",
      "_________________________________________________________________\n",
      "conv1d_5 (Conv1D)            (None, 17, 256)           196864    \n",
      "_________________________________________________________________\n",
      "activation_5 (Activation)    (None, 17, 256)           0         \n",
      "_________________________________________________________________\n",
      "max_pooling1d_2 (MaxPooling1 (None, 5, 256)            0         \n",
      "_________________________________________________________________\n",
      "flatten (Flatten)            (None, 1280)              0         \n",
      "_________________________________________________________________\n",
      "dense (Dense)                (None, 1024)              1311744   \n",
      "_________________________________________________________________\n",
      "dropout (Dropout)            (None, 1024)              0         \n",
      "_________________________________________________________________\n",
      "dense_1 (Dense)              (None, 1024)              1049600   \n",
      "_________________________________________________________________\n",
      "dropout_1 (Dropout)          (None, 1024)              0         \n",
      "_________________________________________________________________\n",
      "dense_2 (Dense)              (None, 5)                 5125      \n",
      "=================================================================\n",
      "Total params: 3,741,667\n",
      "Trainable params: 3,741,667\n",
      "Non-trainable params: 0\n",
      "_________________________________________________________________\n"
     ]
    }
   ],
   "source": [
    "# Initialize and train model, then save it\n",
    "model = make_model(train_data, train_classes, test_data, test_classes, tk)\n",
    "model.save(\"./model\")\n",
    "\n",
    "# Or, load model if already saved\n",
    "# model = load_model(\"./model\")\n",
    "# model.summary()"
   ]
  },
  {
   "cell_type": "markdown",
   "metadata": {},
   "source": [
    "### Extracting and Feeding the Vectors\n",
    "\n",
    "Here, we create a Keras function for extracting embedding vectors from our model, create our vectors from our data, then format the data into JSON for feeding."
   ]
  },
  {
   "cell_type": "code",
   "execution_count": 7,
   "metadata": {},
   "outputs": [],
   "source": [
    "# After training model, create keras function that receives the normal\n",
    "# input of the model, but outputs the embedding vectors of the intermediate\n",
    "# dense layer INSTEAD of a probability distribution of predicted classes\n",
    "embedding_func = K.function(\n",
    "        [model.get_layer('input').input],\n",
    "        model.get_layer('dense').output\n",
    "    )\n",
    "\n",
    "# Then, generate 10 embedding vectors to be put into Vespa\n",
    "embeddings = embedding_func(inputs[:10])"
   ]
  },
  {
   "cell_type": "code",
   "execution_count": 8,
   "metadata": {},
   "outputs": [
    {
     "name": "stdout",
     "output_type": "stream",
     "text": [
      "10 successfully saved at ./data/reviews.json\n"
     ]
    }
   ],
   "source": [
    "# Get first 10 documents and convert them into Vespa-feedable JSON format\n",
    "data_to_vespa_format(df.iloc[:10], embeddings, path=\"./data/reviews.json\")"
   ]
  },
  {
   "cell_type": "code",
   "execution_count": null,
   "metadata": {},
   "outputs": [],
   "source": []
  }
 ],
 "metadata": {
  "kernelspec": {
   "display_name": "Python 3.9.12 ('vespa')",
   "language": "python",
   "name": "python3"
  },
  "language_info": {
   "codemirror_mode": {
    "name": "ipython",
    "version": 3
   },
   "file_extension": ".py",
   "mimetype": "text/x-python",
   "name": "python",
   "nbconvert_exporter": "python",
   "pygments_lexer": "ipython3",
   "version": "3.9.12"
  },
  "orig_nbformat": 4,
  "vscode": {
   "interpreter": {
    "hash": "f8ea39392f3e603912cf6f396d341ec01f093202f29d1b8f7abb3a7e12e84b32"
   }
  }
 },
 "nbformat": 4,
 "nbformat_minor": 2
}
